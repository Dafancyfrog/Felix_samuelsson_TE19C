{
 "metadata": {
  "language_info": {
   "codemirror_mode": {
    "name": "ipython",
    "version": 3
   },
   "file_extension": ".py",
   "mimetype": "text/x-python",
   "name": "python",
   "nbconvert_exporter": "python",
   "pygments_lexer": "ipython3",
   "version": "3.8.3-final"
  },
  "orig_nbformat": 2,
  "kernelspec": {
   "name": "python_defaultSpec_1600411188686",
   "display_name": "Python 3.8.3 64-bit ('base': conda)"
  }
 },
 "nbformat": 4,
 "nbformat_minor": 2,
 "cells": [
  {
   "cell_type": "code",
   "execution_count": 10,
   "metadata": {
    "tags": []
   },
   "outputs": [
    {
     "output_type": "error",
     "ename": "ValueError",
     "evalue": "could not convert string to float: 'hej'",
     "traceback": [
      "\u001b[1;31m---------------------------------------------------------------------------\u001b[0m",
      "\u001b[1;31mValueError\u001b[0m                                Traceback (most recent call last)",
      "\u001b[1;32m<ipython-input-10-77caed7f4445>\u001b[0m in \u001b[0;36m<module>\u001b[1;34m\u001b[0m\n\u001b[1;32m----> 1\u001b[1;33m \u001b[0mtal\u001b[0m\u001b[1;33m=\u001b[0m \u001b[0mfloat\u001b[0m\u001b[1;33m(\u001b[0m\u001b[0minput\u001b[0m\u001b[1;33m(\u001b[0m\u001b[1;34m\"Ange ett tal\"\u001b[0m\u001b[1;33m)\u001b[0m\u001b[1;33m)\u001b[0m\u001b[1;33m\u001b[0m\u001b[1;33m\u001b[0m\u001b[0m\n\u001b[0m\u001b[0;32m      2\u001b[0m \u001b[1;33m\u001b[0m\u001b[0m\n\u001b[0;32m      3\u001b[0m \u001b[1;32mif\u001b[0m \u001b[0mtal\u001b[0m\u001b[1;33m<\u001b[0m\u001b[1;36m0\u001b[0m\u001b[1;33m:\u001b[0m\u001b[1;33m\u001b[0m\u001b[1;33m\u001b[0m\u001b[0m\n\u001b[0;32m      4\u001b[0m     \u001b[0mprint\u001b[0m\u001b[1;33m(\u001b[0m\u001b[1;34m\"talet är negativt\"\u001b[0m\u001b[1;33m)\u001b[0m\u001b[1;33m\u001b[0m\u001b[1;33m\u001b[0m\u001b[0m\n\u001b[0;32m      5\u001b[0m \u001b[1;32melif\u001b[0m \u001b[0mtal\u001b[0m \u001b[1;33m==\u001b[0m \u001b[1;36m0\u001b[0m\u001b[1;33m:\u001b[0m\u001b[1;33m\u001b[0m\u001b[1;33m\u001b[0m\u001b[0m\n",
      "\u001b[1;31mValueError\u001b[0m: could not convert string to float: 'hej'"
     ]
    }
   ],
   "source": [
    "tal= float(input(\"Ange ett tal\"))\n",
    "\n",
    "if tal<0:\n",
    "    print(\"talet är negativt\")\n",
    "elif tal == 0:\n",
    "    print(\"ditt tal är noll\")\n",
    "elif tal>0:\n",
    "    print(\"ditt tal är positivt\")\n",
    "else:\n",
    "    print(\"det är inget tal\")\n",
    "\n",
    "\n",
    "\n"
   ]
  },
  {
   "cell_type": "code",
   "execution_count": 13,
   "metadata": {
    "tags": []
   },
   "outputs": [
    {
     "output_type": "stream",
     "name": "stdout",
     "text": "5.0,6.0,9.0,2.0\ndet största talet är: 9.0\n"
    }
   ],
   "source": [
    "tal1= float(input(\"ange ett tal\"))\n",
    "tal2= float(input(\"ange ett tal\"))\n",
    "tal3= float(input(\"ange ett tal\"))\n",
    "tal4= float(input(\"ange ett tal\"))\n",
    "\n",
    "#perhaps used google but google is your friend in programming annars kan man göra en annan lösning som jag vet men jag behöver inte räkna den här uppgiften och jag kan flexa att jag klarade den med 4 tal\n",
    "list1=[tal1,tal2,tal3,tal4]\n",
    "\n",
    "\n",
    "print(f\"{tal1},{tal2},{tal3},{tal4}\")\n",
    "print(f\"det största talet är:\", max(list1))\n"
   ]
  },
  {
   "cell_type": "code",
   "execution_count": 7,
   "metadata": {
    "tags": []
   },
   "outputs": [
    {
     "output_type": "stream",
     "name": "stdout",
     "text": "Triangeln är rätvinklig\n"
    }
   ],
   "source": [
    "vinkel1=float(input(\"Ange en vinkel\"))\n",
    "vinkel2=float(input(\"Ange en vinkel\"))\n",
    "vinkel3=float(input(\"Ange en vinkel\"))\n",
    "\n",
    "sum=vinkel3 + vinkel1 + vinkel2\n",
    "\n",
    "#den första if är felvill inte funka\n",
    "if vinkel1 or vinkel2 or vinkel3 == 90:\n",
    "    print(\"Triangeln är rätvinklig\" )\n",
    "elif sum>180:\n",
    "    print(\"För höga vinklar\") \n",
    "elif sum<180:\n",
    "    print(\"För låga vinklar\") \n",
    "else:\n",
    "    print(\"Triangeln är inte rätvinklig \")"
   ]
  },
  {
   "cell_type": "code",
   "execution_count": 10,
   "metadata": {
    "tags": []
   },
   "outputs": [
    {
     "output_type": "stream",
     "name": "stdout",
     "text": "den är för hög\n"
    }
   ],
   "source": [
    "vikt = float(input(\"Ange vikten på ditt baggage\"))\n",
    "längd = float(input(\"Ange längd på ditt baggage\"))\n",
    "bredd = float(input(\"Ange bredden på ditt baggage\"))\n",
    "höjd = float(input(\"Ange höjden på ditt baggage\"))\n",
    "\n",
    "if vikt > 8:\n",
    "    print(\"vikten är för mycket\")\n",
    "elif längd > 55:\n",
    "    print(\"den är för lång\")\n",
    "elif bredd > 40:\n",
    "    print(\"den är för bred\")\n",
    "elif höjd > 23:\n",
    "    print(\"den är för hög\")\n",
    "else:\n",
    "    print(\"Ditt baggage är godkännt\")"
   ]
  },
  {
   "cell_type": "code",
   "execution_count": null,
   "metadata": {},
   "outputs": [],
   "source": []
  }
 ]
}