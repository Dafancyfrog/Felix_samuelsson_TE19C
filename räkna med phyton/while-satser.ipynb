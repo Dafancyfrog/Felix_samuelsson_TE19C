{
 "metadata": {
  "language_info": {
   "codemirror_mode": {
    "name": "ipython",
    "version": 3
   },
   "file_extension": ".py",
   "mimetype": "text/x-python",
   "name": "python",
   "nbconvert_exporter": "python",
   "pygments_lexer": "ipython3",
   "version": "3.8.3-final"
  },
  "orig_nbformat": 2,
  "kernelspec": {
   "name": "Python 3.8.3 64-bit ('base': conda)",
   "display_name": "Python 3.8.3 64-bit ('base': conda)",
   "metadata": {
    "interpreter": {
     "hash": "da3216aa0641b02502e8d4a18cbfa7e9640b90702c0399875bb9fd55bd3874b8"
    }
   }
  }
 },
 "nbformat": 4,
 "nbformat_minor": 2,
 "cells": [
  {
   "cell_type": "code",
   "execution_count": 1,
   "metadata": {
    "tags": []
   },
   "outputs": [
    {
     "output_type": "stream",
     "name": "stdout",
     "text": "då\n"
    }
   ],
   "source": [
    "'''\n",
    "    multiline kommentar\n",
    "\n",
    "    x = 5\n",
    "    print( hej)\n",
    "'''\n",
    "\n",
    "print(\"då\")"
   ]
  },
  {
   "cell_type": "code",
   "execution_count": 4,
   "metadata": {
    "tags": []
   },
   "outputs": [
    {
     "output_type": "stream",
     "name": "stdout",
     "text": "Jäman tal från 0-10\n0 2 4 6 8 10"
    }
   ],
   "source": [
    "print(\"Jäman tal från 0-10\")\n",
    "n = 0\n",
    "while n <= 10:\n",
    "    print(n, end = \" \")\n",
    "    n += 2"
   ]
  },
  {
   "source": [
    "# Miljöututsläpp\n",
    "\n",
    "Ett Miljöututsläpp halverar fågelpopulationen i en ö varje år\n",
    "\n",
    "fågelpopulationen började på 8000st\n",
    "\n",
    "Hur många år tar det tills populationen blir mindre än en tiondel"
   ],
   "cell_type": "markdown",
   "metadata": {}
  },
  {
   "cell_type": "code",
   "execution_count": 7,
   "metadata": {
    "tags": []
   },
   "outputs": [
    {
     "output_type": "stream",
     "name": "stdout",
     "text": "År 0: antal fåglar 8000st\n År 1: antal fåglar 4000.0st\n År 2: antal fåglar 2000.0st\n År 3: antal fåglar 1000.0st\n År 4: antal fåglar 500.0st\ndet tar 4år tills fågelpopulationen understiger en tiondel\n"
    }
   ],
   "source": [
    "fåglar = 8000\n",
    "år = 0\n",
    "\n",
    "print(f\" År {år}: antal fåglar {fåglar}st\")\n",
    "\n",
    "while fåglar >= 800:\n",
    "    fåglar /= 2\n",
    "    år += 1\n",
    "\n",
    "    print(f\" År {år}: antal fåglar {fåglar}st\")\n",
    "\n",
    "print(f\"det tar {år}år tills fågelpopulationen understiger en tiondel\" )\n",
    "\n"
   ]
  },
  {
   "cell_type": "code",
   "execution_count": 19,
   "metadata": {},
   "outputs": [
    {
     "output_type": "stream",
     "name": "stdout",
     "text": [
      "4950 \n"
     ]
    }
   ],
   "source": [
    "#uppgift 1\n",
    "\n",
    "summa = 0\n",
    "n = 0  #räkningsvariabel\n",
    "\n",
    "while n <=99:\n",
    "    summa = summa + n\n",
    "    n +=1\n",
    "\n",
    "print(f\"{summa} \")\n"
   ]
  },
  {
   "cell_type": "code",
   "execution_count": 18,
   "metadata": {},
   "outputs": [
    {
     "output_type": "stream",
     "name": "stdout",
     "text": [
      "2500 \n"
     ]
    }
   ],
   "source": [
    "#uppgift 2\n",
    "\n",
    "n = 1 \n",
    "summa = 0s\n",
    "while n <=99:\n",
    "    summa = summa + n\n",
    "    n +=2\n",
    "\n",
    "print(f\"{summa} \")\n"
   ]
  },
  {
   "cell_type": "code",
   "execution_count": 8,
   "metadata": {
    "tags": []
   },
   "outputs": [
    {
     "output_type": "stream",
     "name": "stdout",
     "text": [
      "det finns 15bakterier efter 0 timmar\nefter 1timmar finns 22.5\nefter 2timmar finns 33.75\nefter 3timmar finns 50.625\nefter 4timmar finns 75.9375\nefter 5timmar finns 113.90625\nDet tar 5timmar för att det ska bli 113.90625\n"
     ]
    }
   ],
   "source": [
    "#tog för mycket på datorn lägg till 5 nollor på bakterier och while\n",
    "\n",
    "bak= 15\n",
    "tid= 0\n",
    "\n",
    "print(f\"det finns {bak}bakterier efter {tid} timmar\")\n",
    "\n",
    "while bak <= 100:\n",
    "    bak*=1.5\n",
    "    tid +=1\n",
    "\n",
    "    print(f\"efter {tid}timmar finns {bak}\")\n",
    "\n",
    "print(f\"Det tar {tid}timmar för att det ska bli {bak}\")\n"
   ]
  },
  {
   "cell_type": "code",
   "execution_count": null,
   "metadata": {},
   "outputs": [],
   "source": [
    "#uppgift 3 \n",
    "\n",
    "# 2 upphöjt till minus n är mönstret"
   ]
  }
 ]
}