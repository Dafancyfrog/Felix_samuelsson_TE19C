{
 "metadata": {
  "language_info": {
   "codemirror_mode": {
    "name": "ipython",
    "version": 3
   },
   "file_extension": ".py",
   "mimetype": "text/x-python",
   "name": "python",
   "nbconvert_exporter": "python",
   "pygments_lexer": "ipython3",
   "version": "3.8.3-final"
  },
  "orig_nbformat": 2,
  "kernelspec": {
   "name": "python_defaultSpec_1601621201610",
   "display_name": "Python 3.8.3 64-bit ('felix.samuelsson': virtualenv)"
  }
 },
 "nbformat": 4,
 "nbformat_minor": 2,
 "cells": [
  {
   "cell_type": "code",
   "execution_count": 1,
   "metadata": {
    "tags": []
   },
   "outputs": [
    {
     "output_type": "stream",
     "name": "stdout",
     "text": "då\n"
    }
   ],
   "source": [
    "'''\n",
    "    multiline kommentar\n",
    "\n",
    "    x = 5\n",
    "    print( hej)\n",
    "'''\n",
    "\n",
    "print(\"då\")"
   ]
  },
  {
   "cell_type": "code",
   "execution_count": 4,
   "metadata": {
    "tags": []
   },
   "outputs": [
    {
     "output_type": "stream",
     "name": "stdout",
     "text": "Jäman tal från 0-10\n0 2 4 6 8 10"
    }
   ],
   "source": [
    "print(\"Jäman tal från 0-10\")\n",
    "n = 0\n",
    "while n <= 10:\n",
    "    print(n, end = \" \")\n",
    "    n += 2"
   ]
  },
  {
   "source": [
    "# Miljöututsläpp\n",
    "\n",
    "Ett Miljöututsläpp halverar fågelpopulationen i en ö varje år\n",
    "\n",
    "fågelpopulationen började på 8000st\n",
    "\n",
    "Hur många år tar det tills populationen blir mindre än en tiondel"
   ],
   "cell_type": "markdown",
   "metadata": {}
  },
  {
   "cell_type": "code",
   "execution_count": 7,
   "metadata": {
    "tags": []
   },
   "outputs": [
    {
     "output_type": "stream",
     "name": "stdout",
     "text": "År 0: antal fåglar 8000st\n År 1: antal fåglar 4000.0st\n År 2: antal fåglar 2000.0st\n År 3: antal fåglar 1000.0st\n År 4: antal fåglar 500.0st\ndet tar 4år tills fågelpopulationen understiger en tiondel\n"
    }
   ],
   "source": [
    "fåglar = 8000\n",
    "år = 0\n",
    "\n",
    "print(f\" År {år}: antal fåglar {fåglar}st\")\n",
    "\n",
    "while fåglar >= 800:\n",
    "    fåglar /= 2\n",
    "    år += 1\n",
    "\n",
    "    print(f\" År {år}: antal fåglar {fåglar}st\")\n",
    "\n",
    "print(f\"det tar {år}år tills fågelpopulationen understiger en tiondel\" )\n",
    "\n"
   ]
  },
  {
   "cell_type": "code",
   "execution_count": null,
   "metadata": {},
   "outputs": [],
   "source": []
  }
 ]
}