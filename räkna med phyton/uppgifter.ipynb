{
 "metadata": {
  "language_info": {
   "codemirror_mode": {
    "name": "ipython",
    "version": 3
   },
   "file_extension": ".py",
   "mimetype": "text/x-python",
   "name": "python",
   "nbconvert_exporter": "python",
   "pygments_lexer": "ipython3",
   "version": "3.8.3-final"
  },
  "orig_nbformat": 2,
  "kernelspec": {
   "name": "python_defaultSpec_1599806030816",
   "display_name": "Python 3.8.3 64-bit ('base': conda)"
  }
 },
 "nbformat": 4,
 "nbformat_minor": 2,
 "cells": [
  {
   "cell_type": "code",
   "execution_count": 1,
   "metadata": {},
   "outputs": [
    {
     "output_type": "error",
     "ename": "NameError",
     "evalue": "name 'katchaw' is not defined",
     "traceback": [
      "\u001b[1;31m---------------------------------------------------------------------------\u001b[0m",
      "\u001b[1;31mNameError\u001b[0m                                 Traceback (most recent call last)",
      "\u001b[1;32m<ipython-input-1-bd4d9b0cc096>\u001b[0m in \u001b[0;36m<module>\u001b[1;34m\u001b[0m\n\u001b[1;32m----> 1\u001b[1;33m \u001b[0mkatchaw\u001b[0m\u001b[1;33m\u001b[0m\u001b[1;33m\u001b[0m\u001b[0m\n\u001b[0m",
      "\u001b[1;31mNameError\u001b[0m: name 'katchaw' is not defined"
     ]
    }
   ],
   "source": [
    "#uppgift nr0\n",
    "\n",
    "print(\"hello\")\n",
    "hello"
   ]
  },
  {
   "cell_type": "code",
   "execution_count": 4,
   "metadata": {
    "tags": []
   },
   "outputs": [
    {
     "output_type": "stream",
     "name": "stdout",
     "text": "31.400000000000002\n"
    }
   ],
   "source": [
    "radie=5\n",
    "pi=3.14\n",
    "omkrets= 2*radie*pi\n",
    "\n",
    "print(omkrets)"
   ]
  },
  {
   "cell_type": "code",
   "execution_count": 7,
   "metadata": {
    "tags": []
   },
   "outputs": [
    {
     "output_type": "stream",
     "name": "stdout",
     "text": "5\n17.0\n127\n"
    }
   ],
   "source": [
    "#uppgift 1\n",
    "print(12-7)\n",
    "\n",
    "print(24/3 + 9)\n",
    "\n",
    "print(3*43-2)"
   ]
  },
  {
   "cell_type": "code",
   "execution_count": 10,
   "metadata": {
    "tags": []
   },
   "outputs": [
    {
     "output_type": "stream",
     "name": "stdout",
     "text": "Hej! Hur mår du\n"
    }
   ],
   "source": [
    "#uppgift 2\n",
    "\n",
    "print(\"Hej! Hur mår du\")\n"
   ]
  },
  {
   "cell_type": "code",
   "execution_count": 13,
   "metadata": {
    "tags": []
   },
   "outputs": [
    {
     "output_type": "stream",
     "name": "stdout",
     "text": "30\n59\n153\n"
    }
   ],
   "source": [
    "#uppgift 3 \n",
    "\n",
    "läsk=15\n",
    "hamburgare=29\n",
    "pommes=12\n",
    "\n",
    "print(läsk*2 )\n",
    "\n",
    "print(läsk*2 + hamburgare)\n",
    "\n",
    "print (läsk*2 + hamburgare*3 + pommes*3)\n"
   ]
  },
  {
   "cell_type": "code",
   "execution_count": 14,
   "metadata": {
    "tags": []
   },
   "outputs": [
    {
     "output_type": "stream",
     "name": "stdout",
     "text": "9863\n"
    }
   ],
   "source": [
    "#uppgift 4 \n",
    "\n",
    "#ta bort quotation marks and it works\n",
    "\n",
    "print(219*45 + 8)"
   ]
  },
  {
   "cell_type": "code",
   "execution_count": 21,
   "metadata": {
    "tags": []
   },
   "outputs": [
    {
     "output_type": "stream",
     "name": "stdout",
     "text": "Om du kör med hastigheten 70 km/h så hinner du 105.0 km. \n"
    }
   ],
   "source": [
    "#uppgift 5 \n",
    "# det komemr visa konstig skit \n",
    "\n",
    "speed= 70 * 1.5\n",
    "\n",
    "print(f\"Om du kör med hastigheten 70 km/h så hinner du {speed} km. \")"
   ]
  },
  {
   "cell_type": "code",
   "execution_count": null,
   "metadata": {},
   "outputs": [],
   "source": []
  },
  {
   "cell_type": "markdown",
   "metadata": {},
   "source": [
    "Tyngdkraft\n",
    "\n",
    "* fråga användaren om sin vikt\n",
    "* beräkna tyngdkraften\n",
    "\n",
    "F=mg"
   ]
  },
  {
   "cell_type": "code",
   "execution_count": 25,
   "metadata": {
    "tags": []
   },
   "outputs": [
    {
     "output_type": "stream",
     "name": "stdout",
     "text": "Din tungdkraft är 677.58N\n"
    }
   ],
   "source": [
    "#skapa en an variabel g tilldelar den värdet 9.82\n",
    "g = 9.82\n",
    "#float gör så att man kan använda det och räkna med det\n",
    "m = float(input(\"Hur mycket väger du?\"))\n",
    "\n",
    "f = m*g\n",
    "\n",
    "print(f\"Din tungdkraft är {f}N\")\n"
   ]
  },
  {
   "cell_type": "code",
   "execution_count": 27,
   "metadata": {
    "tags": []
   },
   "outputs": [
    {
     "output_type": "stream",
     "name": "stdout",
     "text": "0.53 = 53% \n"
    }
   ],
   "source": [
    "decimal = float(input(\"Ange ett decimal tal\"))\n",
    "procent = decimal*100\n",
    "\n",
    "print(f\"{decimal} = {procent:.0f}% \")\n"
   ]
  },
  {
   "cell_type": "code",
   "execution_count": 29,
   "metadata": {
    "tags": []
   },
   "outputs": [
    {
     "output_type": "stream",
     "name": "stdout",
     "text": "175.0K =-98C\n"
    }
   ],
   "source": [
    "\n",
    "kelvin = float(input(\"Ange en kelvin temperatur\"))\n",
    "celcius = kelvin - 273.15\n",
    "\n",
    "print(f\"{kelvin}K ={celcius}C\")\n"
   ]
  },
  {
   "cell_type": "code",
   "execution_count": 31,
   "metadata": {
    "tags": []
   },
   "outputs": [
    {
     "output_type": "stream",
     "name": "stdout",
     "text": "50.0=323.15\n"
    }
   ],
   "source": [
    "celcius = float(input(\"Ange grader i celcius\"))\n",
    "kelvin= celcius + 273.15\n",
    "\n",
    "print(f\"{celcius}={kelvin}\")\n"
   ]
  },
  {
   "cell_type": "code",
   "execution_count": 4,
   "metadata": {
    "tags": []
   },
   "outputs": [
    {
     "output_type": "stream",
     "name": "stdout",
     "text": "det är värt att köpa månadskort\n1200.0 så mycket kostar dina resor \n"
    }
   ],
   "source": [
    "engångsbiljett = 30\n",
    "månadskort = 775\n",
    "\n",
    "åker = float(input(\"hur mycket åker du med västtrafik\"))\n",
    "kostnad = åker*30\n",
    "\n",
    "if kostnad > 775: \n",
    "    print(\"det är värt att köpa månadskort\")\n",
    "\n",
    "\n",
    "print(f\"{kostnad}kr kostar dina resor \")\n"
   ]
  },
  {
   "cell_type": "code",
   "execution_count": null,
   "metadata": {},
   "outputs": [],
   "source": []
  }
 ]
}