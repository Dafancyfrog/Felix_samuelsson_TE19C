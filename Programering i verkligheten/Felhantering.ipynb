{
 "metadata": {
  "language_info": {
   "codemirror_mode": {
    "name": "ipython",
    "version": 3
   },
   "file_extension": ".py",
   "mimetype": "text/x-python",
   "name": "python",
   "nbconvert_exporter": "python",
   "pygments_lexer": "ipython3",
   "version": "3.8.3-final"
  },
  "orig_nbformat": 2,
  "kernelspec": {
   "name": "python3",
   "display_name": "Python 3",
   "language": "python"
  }
 },
 "nbformat": 4,
 "nbformat_minor": 2,
 "cells": [
  {
   "cell_type": "code",
   "execution_count": 8,
   "metadata": {},
   "outputs": [
    {
     "output_type": "stream",
     "name": "stdout",
     "text": [
      " ålder ska vara ett nummer inte ett ord\n",
      " ålder ska vara ett nummer inte ett ord\n",
      " ålder ska vara ett nummer inte ett ord\n",
      " ålder ska vara ett nummer inte ett ord\n",
      " ålder ska vara ett nummer inte ett ord\n",
      " ålder ska vara ett nummer inte ett ord\n",
      " ålder ska vara ett nummer inte ett ord\n",
      " ålder ska vara ett nummer inte ett ord\n",
      " ålder ska vara ett nummer inte ett ord\n",
      " ålder ska vara ett nummer inte ett ord\n",
      " ålder ska vara ett nummer inte ett ord\n",
      " ålder ska vara ett nummer inte ett ord\n",
      " ålder ska vara ett nummer inte ett ord\n",
      "du är vuxen\n"
     ]
    }
   ],
   "source": [
    "while True:\n",
    "    try:\n",
    "        ålder = float(input(\"hur gammal är du \"))\n",
    "        #detta löser ett logtist fel\n",
    "        assert ålder >= 0 and ålder <125, \"Din ålder ska vara mellan 0 och 125\"\n",
    "        break #hoppar ut ur while satsen \n",
    "    except AssertionError as msg:\n",
    "        print(msg)\n",
    "    except:\n",
    "        print(\" ålder ska vara ett nummer inte ett ord\")\n",
    "\n",
    "\n",
    "\n",
    "if ålder >= 18:\n",
    "    print(\"du är vuxen\")\n",
    "else:\n",
    "    print(\"du är ett barn\");"
   ]
  },
  {
   "cell_type": "code",
   "execution_count": 1,
   "metadata": {},
   "outputs": [
    {
     "output_type": "stream",
     "name": "stdout",
     "text": [
      "Största talet är 9.0 minsta talet är 0.0\n5 9 5 0\n"
     ]
    }
   ],
   "source": [
    "tal_str = input(\"ange ett tal med mellanrum emellan\")\n",
    "lista_str = tal_str.split()\n",
    "\n",
    "try:\n",
    "    tal_lista = [float(x) for x in lista_str]\n",
    "    störst = max(tal_lista)\n",
    "    minst = min(tal_lista)\n",
    "    print(f\"Största talet är {störst} minsta talet är {minst}\")\n",
    "except:\n",
    "    print(\"felaktiga tal\")\n",
    "\n",
    "print(tal_str)"
   ]
  },
  {
   "cell_type": "code",
   "execution_count": 17,
   "metadata": {},
   "outputs": [
    {
     "output_type": "stream",
     "name": "stdout",
     "text": [
      "(0.7071067811865476, 0.7071067811865476)\n"
     ]
    }
   ],
   "source": [
    "import numpy as np\n",
    "\n",
    "def distance(x,y):\n",
    "    x = np.sqrt(x)\n",
    "    y = np.sqrt(y)\n",
    "    return (x,y)\n",
    "    \n",
    "print(distance(0.5,0.5))"
   ]
  },
  {
   "cell_type": "code",
   "execution_count": 42,
   "metadata": {},
   "outputs": [
    {
     "output_type": "stream",
     "name": "stdout",
     "text": [
      "100 är inte fyrsiffrigt\n231 är inte fyrsiffrigt\n10000 är inte fyrsiffrigt\n-1000 är inte fyrsiffrigt\n102313 är inte fyrsiffrigt\n"
     ]
    }
   ],
   "source": [
    "def ar_fyrsiffrigt(tal):\n",
    "    if tal//1000<10 and tal//1000>1:\n",
    "        return True\n",
    "    else: \n",
    "        return False\n",
    "\n",
    "#testprogram\n",
    "\n",
    "testtal = [100, 231, 10000, -1000, 102313]\n",
    "\n",
    "for t in testtal: \n",
    "    if ar_fyrsiffrigt(t):\n",
    "        print(f\"{t} är fyrsiffrigt\")\n",
    "    else: \n",
    "        print(f\"{t} är inte fyrsiffrigt\")"
   ]
  },
  {
   "cell_type": "code",
   "execution_count": 48,
   "metadata": {},
   "outputs": [
    {
     "output_type": "stream",
     "name": "stdout",
     "text": [
      "priset måste vara positivt och ett nummer \n",
      "priset måste vara positivt och ett nummer \n",
      "Köp inte månadskort\n"
     ]
    }
   ],
   "source": [
    "while True:\n",
    "    try:\n",
    "        antalåk = float(input(\"ange hur mycket du ska åka i månaden \"))\n",
    "        assert antalåk >= 0 and antalåk <300, \"du måste ha positiva och mindre än 270 åk i månaden \"#valde 300 för då måste man åka           spårvagn 9 gånger varje dag och det känns lite mycket men addade lite för att ha rumc\n",
    "        engångspris = float(input(\"ange engångspriset i kr\"))\n",
    "        assert engångspris >= 1, \" priset måste vara ett positivt nummer\"\n",
    "        månadspriset = float(input(\"ange månadskort pris i kr\"))\n",
    "        assert månadspriset >= 1, \"månadspriset måste vara ett positivt nummer\"\n",
    "        break\n",
    "    except AssertionError as msg:\n",
    "        print(msg)\n",
    "    except:\n",
    "        print(\"priset måste vara positivt och ett nummer \")\n",
    "        \n",
    "\n",
    "\n",
    "pris = antalåk * engångspris \n",
    "\n",
    "if pris > månadspriset:\n",
    "    print(f\"priset för dina åkturer är {pris}kr medans ett månadskort kostar{månadspriset}kr vilket gjör det billigare att köpa     månadskort \")\n",
    "else: \n",
    "    print(\" priset av dina resor kostar mindre än månadskortet därför borde du inte köpa månadskort \")\n",
    "    "
   ]
  },
  {
   "cell_type": "code",
   "execution_count": null,
   "metadata": {},
   "outputs": [],
   "source": []
  }
 ]
}