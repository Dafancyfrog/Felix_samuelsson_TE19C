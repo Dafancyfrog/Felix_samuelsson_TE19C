{
 "metadata": {
  "language_info": {
   "codemirror_mode": {
    "name": "ipython",
    "version": 3
   },
   "file_extension": ".py",
   "mimetype": "text/x-python",
   "name": "python",
   "nbconvert_exporter": "python",
   "pygments_lexer": "ipython3",
   "version": "3.8.3-final"
  },
  "orig_nbformat": 2,
  "kernelspec": {
   "name": "python3",
   "display_name": "Python 3.8.3 64-bit (conda)",
   "metadata": {
    "interpreter": {
     "hash": "da3216aa0641b02502e8d4a18cbfa7e9640b90702c0399875bb9fd55bd3874b8"
    }
   }
  }
 },
 "nbformat": 4,
 "nbformat_minor": 2,
 "cells": [
  {
   "cell_type": "code",
   "execution_count": 4,
   "metadata": {},
   "outputs": [
    {
     "output_type": "stream",
     "name": "stdout",
     "text": [
      "felix är 17 och är en Student\n"
     ]
    }
   ],
   "source": [
    "#syntax frö dictonary \n",
    "person = dict(\n",
    "    namn = \"felix\",\n",
    "    ålder = \"17\",\n",
    "    yrke = \"Student\",\n",
    "    arbetsplats = \"NTI\"\n",
    ")\n",
    "\n",
    "print(f\"{person['namn']} är {person['ålder']} och är en {person['yrke']}\")"
   ]
  },
  {
   "cell_type": "code",
   "execution_count": 20,
   "metadata": {},
   "outputs": [
    {
     "output_type": "stream",
     "name": "stdout",
     "text": [
      "ord vi behöver lkära oss:\ntilldela  \t ge ett värde till en variabel\ndatastruktur  \t strukturering av data\nsträng  \t sekvens av tecken\ndictonary  \t datastruktur för att spara data i key:value par\n\n\nGloslista\ntilldela   \t ge ett värde till en variabel\ndatastruktur   \t strukturering av data\nsträng   \t sekvens av tecken\ndictonary   \t datastruktur för att spara data i key:value par\n"
     ]
    }
   ],
   "source": [
    "#syntax med {}\n",
    "\n",
    "glosor = {\n",
    "    \"tilldela\": \"ge ett värde till en variabel\",\n",
    "   \"datastruktur\":\"strukturering av data\",\n",
    "   \"sträng\":\"sekvens av tecken\"\n",
    "\n",
    "\n",
    "}\n",
    " \n",
    "glosor[\"dictonary\"] = \"datastruktur för att spara data i key:value par\"\n",
    "\n",
    "'''\n",
    "print(glosor[\"tilldela\"])\n",
    "print (glosor[\"datastruktur\"])\n",
    "print(glosor[\"sträng\"])\n",
    "'''\n",
    "\n",
    "print(\"ord vi behöver lkära oss:\")\n",
    "# et sätt att loopa igenom dictonary\n",
    "for key in glosor:\n",
    "    print(f\"{key}  \\t {glosor[key]}\")\n",
    "\n",
    "\n",
    "print(\"\\n\\nGloslista\")\n",
    "#ett annat sätt\n",
    "for key, value in glosor.items():\n",
    "    print(f\"{key}   \\t {value}\" )\n"
   ]
  },
  {
   "cell_type": "code",
   "execution_count": null,
   "metadata": {},
   "outputs": [],
   "source": []
  }
 ]
}